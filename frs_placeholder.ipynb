{
  "nbformat": 4,
  "nbformat_minor": 0,
  "metadata": {
    "colab": {
      "name": "frs-placeholder.ipynb",
      "provenance": [],
      "collapsed_sections": []
    },
    "kernelspec": {
      "name": "python3",
      "display_name": "Python 3"
    }
  },
  "cells": [
    {
      "cell_type": "code",
      "metadata": {
        "id": "uGOUjtfgu7fx"
      },
      "source": [
        "import frs\r\n",
        "import numpy as np\r\n",
        "person, benunit, household = frs.load()"
      ],
      "execution_count": 1,
      "outputs": []
    },
    {
      "cell_type": "code",
      "metadata": {
        "id": "7v-gUGGrvNmi"
      },
      "source": [
        "import pandas as pd\r\n",
        "count = 1000\r\n",
        "id_cols = [\"person_id\", \"benunit_id\", \"household_id\"]\r\n",
        "sampled_household_ids = household[\"household_id\"].sample(count)\r\n",
        "p = person[person[\"household_id\"].isin(sampled_household_ids)][[\"person_id\", \"benunit_id\", \"household_id\"]].reset_index()\r\n",
        "b = benunit[benunit[\"household_id\"].isin(sampled_household_ids)][[\"benunit_id\", \"household_id\"]].reset_index()\r\n",
        "h = household[household[\"household_id\"].isin(sampled_household_ids)][[\"household_id\"]].reset_index()"
      ],
      "execution_count": 2,
      "outputs": []
    },
    {
      "cell_type": "code",
      "metadata": {
        "id": "yW1TwDig2nlw"
      },
      "source": [
        "def could_be_int(x):\r\n",
        "  return np.array_equal(x, x.astype(int))"
      ],
      "execution_count": 3,
      "outputs": []
    },
    {
      "cell_type": "code",
      "metadata": {
        "id": "_u4Wg8pGzysV"
      },
      "source": [
        "for col in person:\r\n",
        "  if col not in id_cols:\r\n",
        "    p[col] = np.array(person[col].sample(len(p)))\r\n",
        "    if person[col].dtype == float and not could_be_int(person[col]):\r\n",
        "      p[col] *= (1 + 0.2 * (np.random.random() - 0.5))"
      ],
      "execution_count": 4,
      "outputs": []
    },
    {
      "cell_type": "code",
      "metadata": {
        "id": "1p3TU9kr1i0S"
      },
      "source": [
        "for col in benunit:\r\n",
        "  if col not in id_cols:\r\n",
        "    b[col] = np.array(benunit[col].sample(len(b)))\r\n",
        "    if benunit[col].dtype == float and not could_be_int(benunit[col]):\r\n",
        "      b[col] *= (1 + 0.2 * (np.random.random() - 0.5))"
      ],
      "execution_count": 5,
      "outputs": []
    },
    {
      "cell_type": "code",
      "metadata": {
        "id": "44e7J8iD2Nh0"
      },
      "source": [
        "for col in household:\r\n",
        "  if col not in id_cols:\r\n",
        "    h[col] = np.array(household[col].sample(len(h)))\r\n",
        "    if household[col].dtype == float and not could_be_int(household[col]):\r\n",
        "      h[col] *= (1 + 0.2 * (np.random.random() - 0.5))"
      ],
      "execution_count": 6,
      "outputs": []
    },
    {
      "cell_type": "code",
      "metadata": {
        "id": "PyboCj4N5634"
      },
      "source": [
        "p[\"adult_weight\"] *= person[\"adult_weight\"].sum() / p[\"adult_weight\"].sum()\r\n",
        "b[\"benunit_weight\"] *= benunit[\"benunit_weight\"].sum() / b[\"benunit_weight\"].sum()\r\n",
        "h[\"household_weight\"] *= household[\"household_weight\"].sum() / h[\"household_weight\"].sum()"
      ],
      "execution_count": 7,
      "outputs": []
    },
    {
      "cell_type": "code",
      "metadata": {
        "id": "fRIz4Ata4H8M"
      },
      "source": [
        "p.to_csv(\"person.csv\")\r\n",
        "b.to_csv(\"benunit.csv\")\r\n",
        "h.to_csv(\"household.csv\")"
      ],
      "execution_count": 8,
      "outputs": []
    }
  ]
}